{
 "cells": [
  {
   "cell_type": "markdown",
   "id": "6ead0306",
   "metadata": {},
   "source": [
    "Topic: House Price Prediction using Machine Learning\n",
    "\n",
    "Description: This project aims at building a model of house prices to predict median house values in Ontario using provided dataset. This model should learn from the data and be able to predict the median house price in any city given all the other matrices\n",
    "\n",
    "Name: Oluwaseun Ojo\n",
    "\n",
    "Student Number: 202194682\n",
    "\n",
    "Tools: Scikit-learn, Matplotlib, Pandas, Seaborn, Numpy\n",
    "\n",
    "\n"
   ]
  },
  {
   "cell_type": "code",
   "execution_count": null,
   "id": "e0e77ab2",
   "metadata": {},
   "outputs": [],
   "source": [
    "import pandas as pd\n",
    "import matplotlib.pyplot as plt\n",
    "import numpy as np"
   ]
  }
 ],
 "metadata": {
  "kernelspec": {
   "display_name": "Python 3 (ipykernel)",
   "language": "python",
   "name": "python3"
  },
  "language_info": {
   "codemirror_mode": {
    "name": "ipython",
    "version": 3
   },
   "file_extension": ".py",
   "mimetype": "text/x-python",
   "name": "python",
   "nbconvert_exporter": "python",
   "pygments_lexer": "ipython3",
   "version": "3.10.1"
  }
 },
 "nbformat": 4,
 "nbformat_minor": 5
}
