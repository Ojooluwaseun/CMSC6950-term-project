{
 "cells": [
  {
   "cell_type": "markdown",
   "id": "6ead0306",
   "metadata": {},
   "source": [
    "Topic: House Price Prediction using Machine Learning\n",
    "\n",
    "Description: This project aims at building a model of house prices to predict median house values in the United States using provided dataset. This model should learn from the data and be able to predict the median house price in any city given all the other matrices. Predicting house prices can help to determine the selling price of a house in a particular city and can help people to find the right time to buy a home\n",
    "\n",
    "Name: Oluwaseun Ojo\n",
    "\n",
    "Student Number: 202194682\n",
    "\n",
    "Tools: Scikit-learn, Matplotlib, Pandas, Seaborn, Numpy, Scipy\n",
    "\n",
    "\n"
   ]
  },
  {
   "cell_type": "code",
   "execution_count": null,
   "id": "e0e77ab2",
   "metadata": {},
   "outputs": [],
   "source": [
    "import pandas as pd\n",
    "import matplotlib.pyplot as plt\n",
    "import numpy as np\n",
    "\n",
    "#import data\n",
    "data = pd.read_csv('./data.csv')\n",
    "\n",
    "df = pd.DataFrame(data)\n",
    "df.head()"
   ]
  },
  {
   "cell_type": "markdown",
   "id": "a27fb905",
   "metadata": {},
   "source": [
    "Exploratory Data Analysis & Data Visualization"
   ]
  },
  {
   "cell_type": "code",
   "execution_count": null,
   "id": "0c89811b",
   "metadata": {},
   "outputs": [],
   "source": [
    "import seaborn as sns\n",
    "from scipy import stats\n",
    "from matplotlib import style\n",
    "from matplotlib.gridspec import GridSpec\n",
    "\n",
    "from outliers import outliers\n",
    "\n",
    "#plotting all the data using matplotlib\n",
    "data.info()\n",
    "data.hist(bins=50, figsize=(15, 10))\n",
    "plt.grid()\n",
    "\n",
    "#PRICE VISUALIZATION\n",
    "data = outliers.remove_outliers(data, 'price') #remove outliers from price\n",
    "\n",
    "fig = plt.figure(figsize=(15, 10))\n",
    "grid = GridSpec(ncols=1, nrows=2, figure=fig)\n",
    "\n",
    "# Price Histogram\n",
    "ax1 = fig.add_subplot(grid[0, :])\n",
    "plt.title('Price Histogram')\n",
    "sns.histplot(data['price'], ax=ax1, kde=True)\n",
    "\n",
    "# Price QQ plot\n",
    "ax2 = fig.add_subplot(grid[1, :])\n",
    "stats.probplot(data['price'], plot=ax2)"
   ]
  },
  {
   "cell_type": "code",
   "execution_count": null,
   "id": "246b80cd",
   "metadata": {},
   "outputs": [],
   "source": [
    "#BEDROOM VISUALIZATION\n",
    "fig = plt.figure(figsize=(12, 8))\n",
    "sns.catplot(x='bedrooms', y='price', data=data, height=5, aspect=2)\n",
    "plt.legend(loc='upper left')\n",
    "plt.title('Price vs Number of Bedrooms')\n",
    "\n",
    "data = data[data.bedrooms < 8] #remove outliers in bedrooms\n",
    "fig = plt.figure(figsize=(12, 8))\n",
    "plt.title('Bedrooms Distribution')\n",
    "sns.histplot(x=data.bedrooms)\n",
    "plt.ylabel('Amount')"
   ]
  },
  {
   "cell_type": "code",
   "execution_count": null,
   "id": "0134521d",
   "metadata": {},
   "outputs": [],
   "source": [
    "#BATHROOM VISUALIZATION\n",
    "\n",
    "data = data[data.bathrooms < 8] #remove outliers in bathrooms\n",
    "plt.figure(figsize=(12, 8))\n",
    "sns.catplot(x='bathrooms', y='price', data=data, height=5, aspect=2)\n",
    "plt.title('Price vs. Number of Bathrooms')\n",
    "\n",
    "plt.figure(figsize=(12, 8))\n",
    "sns.countplot(x=data['bathrooms'])\n",
    "plt.title('Bathrooms Distribution')"
   ]
  },
  {
   "cell_type": "code",
   "execution_count": null,
   "id": "30c9d9ff",
   "metadata": {},
   "outputs": [],
   "source": [
    "#FLOOR VISUALIZATION\n",
    "mask_floors = {1: 1, 1.5:1, 2:2, 2.5:3, 3:3, 3.5:3}\n",
    "data.floors = data.floors.map(mask_floors)\n",
    "plt.figure(figsize=(12, 8))\n",
    "sns.catplot(x='floors', y='price', data=data, height=5, aspect=2)\n",
    "plt.title('Price vs. Number of Floors')"
   ]
  },
  {
   "cell_type": "code",
   "execution_count": null,
   "id": "502ef10f",
   "metadata": {},
   "outputs": [],
   "source": [
    "#VIEWS AND WATERFRONT VISUALIZATION\n",
    "plt.figure(figsize=(12, 8))\n",
    "sns.catplot(x='view', y='price', data=data, kind='boxen', height=5, aspect=2)\n",
    "plt.title('Price vs. Number of Views')\n",
    "\n",
    "plt.figure(figsize=(12, 8))\n",
    "sns.catplot(x='waterfront', y='price', data=data, kind='box', height=5, aspect=2)\n",
    "plt.title('Price vs. Number of Waterfronts')"
   ]
  },
  {
   "cell_type": "code",
   "execution_count": null,
   "id": "0f68114d",
   "metadata": {},
   "outputs": [],
   "source": [
    "#YEAR BUILT AND YEAR RENOVATED VISUALIZATION\n",
    "plt.figure(figsize=(12, 8))\n",
    "sns.histplot(data.yr_built, kde=True)\n",
    "plt.title('Year Built Distribution')\n",
    "\n",
    "data.yr_renovated = data.yr_renovated.apply(lambda x: 0 if x==0 else 1)\n",
    "sns.catplot(x='yr_renovated', y='price', data=data, kind='bar', height=5, aspect=2)\n",
    "plt.title('Year Renovated Distribution')"
   ]
  },
  {
   "cell_type": "code",
   "execution_count": null,
   "id": "e4557801",
   "metadata": {},
   "outputs": [],
   "source": [
    "#CITY VISUALIZATION\n",
    "plt.figure(figsize=(12, 8))\n",
    "data.city.value_counts().head(10).plot.pie() #top 10 cities\n",
    "plt.title('City Distribution' )"
   ]
  },
  {
   "cell_type": "markdown",
   "id": "7475b2c6",
   "metadata": {},
   "source": [
    "Training our Model"
   ]
  },
  {
   "cell_type": "code",
   "execution_count": null,
   "id": "e07a2578",
   "metadata": {},
   "outputs": [],
   "source": [
    "from sklearn.model_selection import train_test_split\n",
    "from sklearn.linear_model import LinearRegression\n",
    "from sklearn.preprocessing import StandardScaler\n",
    "from sklearn.tree import DecisionTreeRegressor\n",
    "from sklearn.ensemble import RandomForestRegressor\n",
    "from sklearn.metrics import accuracy_score, mean_squared_error, mean_absolute_error, r2_score\n",
    "\n",
    "from geocoder import geocoder\n",
    "\n",
    "# data['lat'] = df.apply(lambda x: geocoder.geocode(x.street)[0], axis=1)\n",
    "# data['long'] = df.apply(lambda x: geocoder.geocode(x.street)[1], axis=1)\n",
    "\n",
    "# new_data = data.copy()\n",
    "# new_data.to_csv('data_updated.csv')\n",
    "\n",
    "\n"
   ]
  },
  {
   "cell_type": "code",
   "execution_count": null,
   "id": "7c4741a8",
   "metadata": {},
   "outputs": [],
   "source": [
    "new_data = pd.read_csv('./data_updated.csv')\n",
    "\n",
    "df = pd.DataFrame(new_data)\n",
    "\n",
    "df.info()\n",
    "\n",
    "X= new_data.drop(['price', 'street', 'city', 'country', 'statezip'], axis=1)\n",
    "y = new_data['price']\n",
    "\n",
    "X_train, X_test, y_train, y_test = train_test_split(X, y, test_size=0.2, random_state=42)\n",
    "print(X_train.shape, X_test.shape, y_train.shape, y_test.shape)\n",
    "\n",
    "#Transform the data using StandardScaler\n",
    "scalar = StandardScaler()\n",
    "X_train = scalar.fit_transform(X_train)\n",
    "X_test = scalar.transform(X_test)\n",
    "\n",
    "#Train the model using LinearRegression\n",
    "lin_reg = LinearRegression()\n",
    "lin_reg.fit(X_train, y_train)\n",
    "lin_reg_pred = lin_reg.predict(X_test)\n",
    "\n",
    "#Calculate mean squared error, mean absolute error, and r2 score\n",
    "lin_reg_mae = mean_absolute_error(y_test, lin_reg_pred)\n",
    "lin_reg_mse = mean_squared_error(y_test, lin_reg_pred)\n",
    "lin_reg_r2 = r2_score(y_test, lin_reg_pred)\n",
    "print('MAE of linear regression model:', lin_reg_mae)\n",
    "print('MSE of linear regression model:', lin_reg_mse)\n",
    "print('R2 of linear regression model:', lin_reg_r2)\n",
    "\n",
    "#Train the model using DecisionTreeRegressor\n",
    "dec_tree = DecisionTreeRegressor()\n",
    "dec_tree.fit(X_train, y_train)\n",
    "dec_tree_pred = dec_tree.predict(X_test)\n",
    "\n",
    "#Calculate mean squared error, mean absolute error, and r2 score\n",
    "dec_tree_mae = mean_absolute_error(y_test, dec_tree_pred)\n",
    "dec_tree_mse = mean_squared_error(y_test, dec_tree_pred)\n",
    "dec_tree_r2 = r2_score(y_test, dec_tree_pred)\n",
    "print('MAE of decision tree model:', dec_tree_mae)\n",
    "print('MSE of decision tree model:', dec_tree_mse)\n",
    "print('R2 of decision tree model:', dec_tree_r2)\n",
    "\n",
    "#Train the model using RandomForestRegressor\n",
    "ran_forest = RandomForestRegressor()\n",
    "ran_forest.fit(X_train, y_train)\n",
    "ran_forest_pred = ran_forest.predict(X_test)\n",
    "\n",
    "#Calculate mean squared error, mean absolute error, and r2 score\n",
    "ran_forest_mae = mean_absolute_error(y_test, ran_forest_pred)\n",
    "ran_forest_mse = mean_squared_error(y_test, ran_forest_pred)\n",
    "ran_forest_r2 = r2_score(y_test, ran_forest_pred)\n",
    "print('MAE of random forest model:', ran_forest_mae)\n",
    "print('MSE of random forest model:', ran_forest_mse)\n",
    "print('R2 of random forest model:', ran_forest_r2)\n",
    "\n"
   ]
  },
  {
   "cell_type": "code",
   "execution_count": 18,
   "id": "e3719e00",
   "metadata": {},
   "outputs": [
    {
     "name": "stdout",
     "output_type": "stream",
     "text": [
      "Predicted value for house at address: 123 Main St California is: [540431.211207]\n"
     ]
    },
    {
     "name": "stderr",
     "output_type": "stream",
     "text": [
      "C:\\Users\\Oluwaseun Ojo\\AppData\\Roaming\\Python\\Python310\\site-packages\\sklearn\\base.py:443: UserWarning: X has feature names, but RandomForestRegressor was fitted without feature names\n",
      "  warnings.warn(\n"
     ]
    }
   ],
   "source": [
    "from prediction import prediction\n",
    "\n",
    "test_data = {'bedrooms': 3, 'bathrooms': 2, 'sqft_living': 2000, 'sqft_lot': 1000, 'floors': 1, 'waterfront': 1, 'view': 0, 'condition': 3, 'grade': 10, 'sqft_above': 1000, 'sqft_basement': 0, 'yr_built': 2000, 'yr_renovated': 0, 'address': '123 Main St California'}\n",
    "predicted_value = ran_forest.predict((prediction.transform(test_data)))\n",
    "print('Predicted value for house at address:', test_data['address'], 'is:', predicted_value)"
   ]
  }
 ],
 "metadata": {
  "kernelspec": {
   "display_name": "Python 3 (ipykernel)",
   "language": "python",
   "name": "python3"
  },
  "language_info": {
   "codemirror_mode": {
    "name": "ipython",
    "version": 3
   },
   "file_extension": ".py",
   "mimetype": "text/x-python",
   "name": "python",
   "nbconvert_exporter": "python",
   "pygments_lexer": "ipython3",
   "version": "3.10.1"
  },
  "vscode": {
   "interpreter": {
    "hash": "26de051ba29f2982a8de78e945f0abaf191376122a1563185a90213a26c5da77"
   }
  }
 },
 "nbformat": 4,
 "nbformat_minor": 5
}
